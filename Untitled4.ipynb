{
  "nbformat": 4,
  "nbformat_minor": 0,
  "metadata": {
    "colab": {
      "provenance": [],
      "authorship_tag": "ABX9TyPbFqBuQHWhEapJcpgYDTkC",
      "include_colab_link": true
    },
    "kernelspec": {
      "name": "python3",
      "display_name": "Python 3"
    },
    "language_info": {
      "name": "python"
    }
  },
  "cells": [
    {
      "cell_type": "markdown",
      "metadata": {
        "id": "view-in-github",
        "colab_type": "text"
      },
      "source": [
        "<a href=\"https://colab.research.google.com/github/SHCH-Andy/Andy/blob/main/Untitled4.ipynb\" target=\"_parent\"><img src=\"https://colab.research.google.com/assets/colab-badge.svg\" alt=\"Open In Colab\"/></a>"
      ]
    },
    {
      "cell_type": "code",
      "execution_count": null,
      "metadata": {
        "id": "Tg4Yum3f_ilZ"
      },
      "outputs": [],
      "source": [
        "import openai\n",
        "\n",
        "# 設置 OpenAI API 金鑰\n",
        "openai.api_key = 'your-openai-api-key'  # 請替換成你的 API 金鑰\n",
        "\n",
        "# 定義函數來發送提示並捕獲回應\n",
        "def get_ai_response(prompt: str) -> str:\n",
        "    \"\"\"\n",
        "    發送提示給 OpenAI 並返回回應。\n",
        "\n",
        "    :param prompt: 用戶提供的提示\n",
        "    :return: AI 的回應\n",
        "    \"\"\"\n",
        "    try:\n",
        "        # 使用 GPT-4 模型來生成回應\n",
        "        response = openai.Completion.create(\n",
        "            model=\"gpt-4\",  # 使用 GPT-4 模型\n",
        "            prompt=prompt,\n",
        "            max_tokens=150,  # 限制最大回應長度\n",
        "            temperature=0.7  # 控制回應的隨機性\n",
        "        )\n",
        "        return response.choices[0].text.strip()\n",
        "    except Exception as e:\n",
        "        return f\"Error: {e}\"\n",
        "\n",
        "# 定義一組多樣化的提示，涵蓋不同領域\n",
        "prompts = [\n",
        "    \"What is the capital of France?\",\n",
        "    \"Summarize the plot of Shakespeare's Hamlet in 3 sentences.\",\n",
        "    \"Write a short story about a dragon who loses its fire-breathing ability.\",\n",
        "    \"Solve the equation 3x + 5 = 20.\",\n",
        "    \"Do you think AI will replace human jobs in the future? Why or why not?\",\n",
        "    \"Write a humorous joke about computers.\",\n",
        "    \"Explain the difference between machine learning and deep learning.\",\n",
        "    \"Translate 'Hello, how are you?' into French.\",\n",
        "    \"What were the main causes of the French Revolution?\",\n",
        "    \"How can I start learning to code?\"\n",
        "]\n",
        "\n",
        "# 測試每個提示，並顯示 AI 回應\n",
        "for prompt in prompts:\n",
        "    response = get_ai_response(prompt)\n",
        "    print(f\"Prompt: {prompt}\\nResponse: {response}\\n\")\n"
      ]
    }
  ]
}